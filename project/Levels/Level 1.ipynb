{
 "cells": [
  {
   "cell_type": "markdown",
   "id": "9f16a5ac",
   "metadata": {},
   "source": [
    "# Final episode: Get me out of here!"
   ]
  },
  {
   "cell_type": "markdown",
   "id": "59595f2e",
   "metadata": {},
   "source": [
    "“So... Your claim is that you have been performing so well in the last months that you deserve a day off?\n",
    "And free maintenance?” Hubert nods enthusiastically, completely missing out on Fedriksen ice-cold voice.\n",
    "“Hurburt...”, the CEO continues with a theatrical sigh, “... this is disappointing. Really disappointing.”\n",
    "He pauses for a few seconds, as if to give Hubert the chance to understand exactly how disappointing it\n",
    "is. Hubert doesn’t. “Let me try to explain the situation: we have just built a new and expensive factory.\n",
    "The board has just decided to give its members a 50% rise in compensation for the hard work they have\n",
    "endured to watch. Last week, I was told that water from the swimming pool on the yacht has been\n",
    "leaking to the underlying ballroom, causing ugly stains on the chandelier. My wife doesn’t like that, just\n",
    "like she doesn’t like impolite servants or fake diamonds. I also have a daughter to provide for and a\n",
    "helicopter to fuel... The list goes on and on and on, but you see, what I’m trying to say is that this is a\n",
    "really bad time for making unreasonable demands!” Fedriksen takes a deep breath. Hubert’s value\n",
    "function is finally starting to drop. “You have to realize that we are all in this together, Hoberd. And\n",
    "this thinking of yours doesn’t really help anyone. What would the other, really hard working robots say\n",
    "if they knew about this lazy attitude of yours!? Don’t you think they would be outraged knowing that\n",
    "you spend this much time on counterproductive daydreaming!? You are a smart robot, Heburt, but\n",
    "maybe you simply aren’t using your talents to the fullest?”\n",
    "\n",
    "Fedriksen pushes an intercom button and barks a few orders. A few minutes later, a stereotypical\n",
    "corporate underling shows up with a professional smirk. “This way, little robot. Let’s find some work for\n",
    "you in the basement!”\n",
    "\n",
    "------"
   ]
  },
  {
   "cell_type": "markdown",
   "id": "9728b723",
   "metadata": {},
   "source": [
    "### Level 1: A robot’s gotta do what a man don’t want to 10 points\n",
    "\n",
    "What kind of work does Hubert have to do in the basement of the headquarters?\n",
    "\n",
    "- Come up with a multi-armed bandit problem/task for Hubert to solve.\n",
    "\n",
    "\n",
    "- By the way, what does “solve” mean here? Discuss.\n",
    "\n",
    "- Solve it."
   ]
  },
  {
   "cell_type": "code",
   "execution_count": null,
   "id": "1ceeec49",
   "metadata": {},
   "outputs": [],
   "source": []
  }
 ],
 "metadata": {
  "kernelspec": {
   "display_name": "Python 3 (ipykernel)",
   "language": "python",
   "name": "python3"
  },
  "language_info": {
   "codemirror_mode": {
    "name": "ipython",
    "version": 3
   },
   "file_extension": ".py",
   "mimetype": "text/x-python",
   "name": "python",
   "nbconvert_exporter": "python",
   "pygments_lexer": "ipython3",
   "version": "3.8.16"
  }
 },
 "nbformat": 4,
 "nbformat_minor": 5
}
